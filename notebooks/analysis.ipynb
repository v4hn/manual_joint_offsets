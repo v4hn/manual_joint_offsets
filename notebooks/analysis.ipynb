{
 "cells": [
  {
   "cell_type": "code",
   "execution_count": null,
   "metadata": {},
   "outputs": [],
   "source": [
    "!pip install pandas seaborn matplotlib\n",
    "!pip install optuna\n",
    "!pip install -U tqdm\n",
    "!pip install scipy\n",
    "!pip install pwlf"
   ]
  },
  {
   "cell_type": "code",
   "execution_count": 190,
   "metadata": {},
   "outputs": [],
   "source": [
    "import matplotlib.pyplot as plt\n",
    "import matplotlib.ticker as plticker\n",
    "import numpy as np\n",
    "import pandas as pd\n",
    "import pwlf\n",
    "import seaborn as sns\n",
    "\n",
    "from math import tau\n",
    "\n",
    "sns.set_style('whitegrid')"
   ]
  },
  {
   "cell_type": "markdown",
   "metadata": {},
   "source": [
    "# dataset introspection"
   ]
  },
  {
   "cell_type": "code",
   "execution_count": null,
   "metadata": {},
   "outputs": [
    {
     "name": "stdout",
     "output_type": "stream",
     "text": [
      "found 75.0 samples\n"
     ]
    },
    {
     "data": {
      "text/html": [
       "<div>\n",
       "<style scoped>\n",
       "    .dataframe tbody tr th:only-of-type {\n",
       "        vertical-align: middle;\n",
       "    }\n",
       "\n",
       "    .dataframe tbody tr th {\n",
       "        vertical-align: top;\n",
       "    }\n",
       "\n",
       "    .dataframe thead th {\n",
       "        text-align: right;\n",
       "    }\n",
       "</style>\n",
       "<table border=\"1\" class=\"dataframe\">\n",
       "  <thead>\n",
       "    <tr style=\"text-align: right;\">\n",
       "      <th></th>\n",
       "      <th>time</th>\n",
       "      <th>position</th>\n",
       "      <th>reading</th>\n",
       "    </tr>\n",
       "  </thead>\n",
       "  <tbody>\n",
       "    <tr>\n",
       "      <th>count</th>\n",
       "      <td>1.425000e+03</td>\n",
       "      <td>1425.000000</td>\n",
       "      <td>1425.000000</td>\n",
       "    </tr>\n",
       "    <tr>\n",
       "      <th>mean</th>\n",
       "      <td>1.718894e+09</td>\n",
       "      <td>-0.030964</td>\n",
       "      <td>1804.015439</td>\n",
       "    </tr>\n",
       "    <tr>\n",
       "      <th>std</th>\n",
       "      <td>1.070545e+04</td>\n",
       "      <td>0.297896</td>\n",
       "      <td>425.504371</td>\n",
       "    </tr>\n",
       "    <tr>\n",
       "      <th>min</th>\n",
       "      <td>1.718882e+09</td>\n",
       "      <td>-1.455418</td>\n",
       "      <td>1192.000000</td>\n",
       "    </tr>\n",
       "    <tr>\n",
       "      <th>25%</th>\n",
       "      <td>1.718884e+09</td>\n",
       "      <td>-0.097146</td>\n",
       "      <td>1544.000000</td>\n",
       "    </tr>\n",
       "    <tr>\n",
       "      <th>50%</th>\n",
       "      <td>1.718886e+09</td>\n",
       "      <td>-0.005796</td>\n",
       "      <td>1645.000000</td>\n",
       "    </tr>\n",
       "    <tr>\n",
       "      <th>75%</th>\n",
       "      <td>1.718906e+09</td>\n",
       "      <td>0.024859</td>\n",
       "      <td>2145.000000</td>\n",
       "    </tr>\n",
       "    <tr>\n",
       "      <th>max</th>\n",
       "      <td>1.718908e+09</td>\n",
       "      <td>1.562257</td>\n",
       "      <td>3292.000000</td>\n",
       "    </tr>\n",
       "  </tbody>\n",
       "</table>\n",
       "</div>"
      ],
      "text/plain": [
       "               time     position      reading\n",
       "count  1.425000e+03  1425.000000  1425.000000\n",
       "mean   1.718894e+09    -0.030964  1804.015439\n",
       "std    1.070545e+04     0.297896   425.504371\n",
       "min    1.718882e+09    -1.455418  1192.000000\n",
       "25%    1.718884e+09    -0.097146  1544.000000\n",
       "50%    1.718886e+09    -0.005796  1645.000000\n",
       "75%    1.718906e+09     0.024859  2145.000000\n",
       "max    1.718908e+09     1.562257  3292.000000"
      ]
     },
     "metadata": {},
     "output_type": "display_data"
    }
   ],
   "source": [
    "D= pd.read_csv('../../../tuning_curve_samples.csv')\n",
    "print(f\"found {len(D) / len(D['joint'].unique())} samples\")\n",
    "# drop J1s but keep WRJ1. The others don't exist\n",
    "D= D[\n",
    "    (D['joint'] != 'FFJ1') &\n",
    "    (D['joint'] != 'MFJ1') &\n",
    "    (D['joint'] != 'RFJ1') &\n",
    "    (D['joint'] != 'LFJ1') &\n",
    "    (D['joint'] != 'THJ1')\n",
    "    ]\n",
    "D.describe()"
   ]
  },
  {
   "cell_type": "code",
   "execution_count": null,
   "metadata": {},
   "outputs": [],
   "source": [
    "# facet grid by joint\n",
    "plt.figure(figsize=(15, 10), dpi=150)\n",
    "\n",
    "# like this, but wrap in columns instead of rows\n",
    "g = sns.FacetGrid(D, col='joint', col_wrap=5, height=4, sharex=False, sharey=False, hue='joint')\n",
    "\n",
    "g.map(sns.scatterplot, 'reading', 'position', linewidth = 0)\n",
    "for ax in g.axes.flat:\n",
    "    ax.xaxis.set_major_locator(plticker.MultipleLocator(100))\n",
    "    # format, e.g.,  1200 as 1.2k\n",
    "    ax.xaxis.set_major_formatter(plticker.FuncFormatter(lambda x, _: f'{x/1000:.1f}k'))\n",
    "    # rotate labels\n",
    "    for label in ax.get_xticklabels():\n",
    "        label.set_rotation(60)\n",
    "    ax.yaxis.set_major_locator(plticker.MaxNLocator(20))\n",
    "    ax.yaxis.set_major_formatter(plticker.FormatStrFormatter('%.2f'))\n",
    "\n",
    "g.savefig(f'readings-vs-positions {pd.Timestamp.now()}.svg')"
   ]
  },
  {
   "cell_type": "code",
   "execution_count": null,
   "metadata": {},
   "outputs": [],
   "source": [
    "# facet stripplot by joint\n",
    "g = sns.FacetGrid(D, col='joint', col_wrap=5, height=4, sharex=False, sharey=False, hue='joint')\n",
    "g.map(sns.stripplot, 'reading', order= None)\n",
    "# g.savefig(f'stripplot-readings {pd.Timestamp.now()}.svg')"
   ]
  },
  {
   "cell_type": "markdown",
   "metadata": {},
   "source": [
    "# fit piecewise linear function"
   ]
  },
  {
   "cell_type": "code",
   "execution_count": null,
   "metadata": {},
   "outputs": [],
   "source": [
    "import pwlf\n",
    "def fit(x,y,N):\n",
    "    model = pwlf.PiecewiseLinFit(x, y)\n",
    "    model.fit(N)\n",
    "    xb = model.fit_breaks\n",
    "    yb = model.predict(xb)\n",
    "    return xb, yb"
   ]
  },
  {
   "cell_type": "code",
   "execution_count": 205,
   "metadata": {},
   "outputs": [
    {
     "data": {
      "text/html": [
       "<div>\n",
       "<style scoped>\n",
       "    .dataframe tbody tr th:only-of-type {\n",
       "        vertical-align: middle;\n",
       "    }\n",
       "\n",
       "    .dataframe tbody tr th {\n",
       "        vertical-align: top;\n",
       "    }\n",
       "\n",
       "    .dataframe thead th {\n",
       "        text-align: right;\n",
       "    }\n",
       "</style>\n",
       "<table border=\"1\" class=\"dataframe\">\n",
       "  <thead>\n",
       "    <tr style=\"text-align: right;\">\n",
       "      <th></th>\n",
       "      <th>time</th>\n",
       "      <th>position</th>\n",
       "      <th>reading</th>\n",
       "    </tr>\n",
       "  </thead>\n",
       "  <tbody>\n",
       "    <tr>\n",
       "      <th>count</th>\n",
       "      <td>3.600000e+01</td>\n",
       "      <td>36.000000</td>\n",
       "      <td>36.000000</td>\n",
       "    </tr>\n",
       "    <tr>\n",
       "      <th>mean</th>\n",
       "      <td>1.718905e+09</td>\n",
       "      <td>0.084847</td>\n",
       "      <td>1950.222222</td>\n",
       "    </tr>\n",
       "    <tr>\n",
       "      <th>std</th>\n",
       "      <td>2.132572e+03</td>\n",
       "      <td>0.134170</td>\n",
       "      <td>189.968586</td>\n",
       "    </tr>\n",
       "    <tr>\n",
       "      <th>min</th>\n",
       "      <td>1.718901e+09</td>\n",
       "      <td>-0.220361</td>\n",
       "      <td>1541.000000</td>\n",
       "    </tr>\n",
       "    <tr>\n",
       "      <th>25%</th>\n",
       "      <td>1.718905e+09</td>\n",
       "      <td>0.038239</td>\n",
       "      <td>1849.500000</td>\n",
       "    </tr>\n",
       "    <tr>\n",
       "      <th>50%</th>\n",
       "      <td>1.718906e+09</td>\n",
       "      <td>0.087570</td>\n",
       "      <td>1999.000000</td>\n",
       "    </tr>\n",
       "    <tr>\n",
       "      <th>75%</th>\n",
       "      <td>1.718907e+09</td>\n",
       "      <td>0.192961</td>\n",
       "      <td>2074.250000</td>\n",
       "    </tr>\n",
       "    <tr>\n",
       "      <th>max</th>\n",
       "      <td>1.718908e+09</td>\n",
       "      <td>0.280203</td>\n",
       "      <td>2187.000000</td>\n",
       "    </tr>\n",
       "  </tbody>\n",
       "</table>\n",
       "</div>"
      ],
      "text/plain": [
       "               time   position      reading\n",
       "count  3.600000e+01  36.000000    36.000000\n",
       "mean   1.718905e+09   0.084847  1950.222222\n",
       "std    2.132572e+03   0.134170   189.968586\n",
       "min    1.718901e+09  -0.220361  1541.000000\n",
       "25%    1.718905e+09   0.038239  1849.500000\n",
       "50%    1.718906e+09   0.087570  1999.000000\n",
       "75%    1.718907e+09   0.192961  2074.250000\n",
       "max    1.718908e+09   0.280203  2187.000000"
      ]
     },
     "execution_count": 205,
     "metadata": {},
     "output_type": "execute_result"
    }
   ],
   "source": [
    "FINGER = 'LFJ4'\n",
    "Df = D[D['joint'] == FINGER]\n",
    "\n",
    "# filter broken datapoints\n",
    "Df = Df[Df['position'] > -0.25]\n",
    "\n",
    "# sort \n",
    "Df = Df.sort_values(by='reading')\n",
    "x = Df['reading']\n",
    "y = Df['position']\n",
    "Df.describe()"
   ]
  },
  {
   "cell_type": "code",
   "execution_count": 209,
   "metadata": {},
   "outputs": [
    {
     "data": {
      "image/png": "[encoded data removed]",
      "text/plain": [
       "<Figure size 750x500 with 1 Axes>"
      ]
     },
     "metadata": {},
     "output_type": "display_data"
    }
   ],
   "source": [
    "plt.figure(figsize=(15, 10), dpi=50)\n",
    "plt.scatter(x, y)\n",
    "\n",
    "for i in range(1, 5):\n",
    "    xb,yb = fit(x,y,i)\n",
    "    plt.plot(xb, yb, label=f\"{i} segments\")\n",
    "\n",
    "plt.legend()\n",
    "plt.show()"
   ]
  },
  {
   "cell_type": "code",
   "execution_count": 208,
   "metadata": {},
   "outputs": [
    {
     "name": "stdout",
     "output_type": "stream",
     "text": [
      "Copy this line to the corresponding calibration.yaml in sr_hand_config:\n",
      "[\"LFJ4\", [[1541.00, 16.05], [1840.66, 11.83], [2087.39, 1.59], [2153.10, -5.05], [2187.00, -12.29]]],\n"
     ]
    },
    {
     "data": {
      "image/png": "[encoded data removed]",
      "text/plain": [
       "<Figure size 750x500 with 1 Axes>"
      ]
     },
     "metadata": {},
     "output_type": "display_data"
    }
   ],
   "source": [
    "# hand-picked number of segments:\n",
    "i = 4\n",
    "\n",
    "xb,yb = fit(x,y,i)\n",
    "plt.figure(figsize=(15, 10), dpi=50)\n",
    "plt.scatter(x, y)\n",
    "plt.plot(xb, yb, label=f\"{i} segment linear fit\", color='black')\n",
    "plt.title(FINGER)\n",
    "plt.xlabel('reading')\n",
    "plt.ylabel('position')\n",
    "plt.legend()\n",
    "plt.savefig(f'{FINGER} {i} segments {pd.Timestamp.now()}.svg')\n",
    "\n",
    "# calibration file format for shadow hand tuning curves\n",
    "entries = f'[\"{FINGER}\", [' + \", \".join([f\"[{x:.2f}, {y*360/tau:.2f}]\" for x,y in zip(xb,yb)]) + \"]],\"\n",
    "print(f\"Copy this line to the corresponding calibration.yaml in sr_hand_config:\\n\" + entries)"
   ]
  },
  {
   "cell_type": "code",
   "execution_count": null,
   "metadata": {},
   "outputs": [],
   "source": []
  }
 ],
 "metadata": {
  "kernelspec": {
   "display_name": "Python 3",
   "language": "python",
   "name": "python3"
  },
  "language_info": {
   "codemirror_mode": {
    "name": "ipython",
    "version": 3
   },
   "file_extension": ".py",
   "mimetype": "text/x-python",
   "name": "python",
   "nbconvert_exporter": "python",
   "pygments_lexer": "ipython3",
   "version": "3.8.10"
  }
 },
 "nbformat": 4,
 "nbformat_minor": 2
}
