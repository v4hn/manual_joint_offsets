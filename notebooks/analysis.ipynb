{
 "cells": [
  {
   "cell_type": "code",
   "execution_count": null,
   "metadata": {},
   "outputs": [],
   "source": [
    "# !pip install pandas seaborn matplotlib\n",
    "# !pip install optuna\n",
    "# !pip install -U tqdm\n",
    "# !pip install scipy\n",
    "# !pip install pwlf"
   ]
  },
  {
   "cell_type": "code",
   "execution_count": null,
   "metadata": {},
   "outputs": [],
   "source": [
    "import matplotlib.pyplot as plt\n",
    "import matplotlib.ticker as plticker\n",
    "import numpy as np\n",
    "import pandas as pd\n",
    "import pwlf\n",
    "import seaborn as sns\n",
    "import tqdm\n",
    "\n",
    "from math import tau\n",
    "\n",
    "sns.set_style('whitegrid')"
   ]
  },
  {
   "cell_type": "markdown",
   "metadata": {},
   "source": [
    "# dataset introspection"
   ]
  },
  {
   "cell_type": "code",
   "execution_count": null,
   "metadata": {},
   "outputs": [],
   "source": [
    "D= pd.read_csv('~/.ros/tuning_curve_samples.csv')\n",
    "# D= pd.read_csv('../../../tuning_curve_samples mfj4 rfj4 lfj4 th4 th5.csv')\n",
    "\n",
    "print(f\"found {len(D) / len(D['joint'].unique())} samples\")\n",
    "# drop J1s but keep WRJ1. The others don't exist\n",
    "D= D[\n",
    "    (D['joint'] != 'FFJ1') &\n",
    "    (D['joint'] != 'MFJ1') &\n",
    "    (D['joint'] != 'RFJ1') &\n",
    "    (D['joint'] != 'LFJ1') &\n",
    "    (D['joint'] != 'THJ1')\n",
    "    ]\n",
    "D.describe()"
   ]
  },
  {
   "cell_type": "code",
   "execution_count": null,
   "metadata": {},
   "outputs": [],
   "source": [
    "# facet grid by joint\n",
    "plt.figure(figsize=(15, 10), dpi=150)\n",
    "\n",
    "# like this, but wrap in columns instead of rows\n",
    "g = sns.FacetGrid(D, col='joint', col_wrap=5, height=4, sharex=False, sharey=False, hue='joint')\n",
    "\n",
    "g.map(sns.scatterplot, 'reading', 'position', linewidth = 0)\n",
    "for ax in g.axes.flat:\n",
    "    ax.xaxis.set_major_locator(plticker.MultipleLocator(100))\n",
    "    # format, e.g.,  1200 as 1.2k\n",
    "    ax.xaxis.set_major_formatter(plticker.FuncFormatter(lambda x, _: f'{x/1000:.1f}k'))\n",
    "    # rotate labels\n",
    "    for label in ax.get_xticklabels():\n",
    "        label.set_rotation(60)\n",
    "    ax.yaxis.set_major_locator(plticker.MaxNLocator(20))\n",
    "    ax.yaxis.set_major_formatter(plticker.FormatStrFormatter('%.2f'))\n",
    "\n",
    "g.savefig(f'readings-vs-positions {pd.Timestamp.now()}.svg')"
   ]
  },
  {
   "cell_type": "code",
   "execution_count": null,
   "metadata": {},
   "outputs": [],
   "source": [
    "# facet stripplot by joint\n",
    "g = sns.FacetGrid(D, col='joint', col_wrap=5, height=4, sharex=False, sharey=False, hue='joint')\n",
    "g.map(sns.stripplot, 'reading', order= None)\n",
    "# g.savefig(f'stripplot-readings {pd.Timestamp.now()}.svg')"
   ]
  },
  {
   "cell_type": "markdown",
   "metadata": {},
   "source": [
    "# fit piecewise linear function"
   ]
  },
  {
   "cell_type": "code",
   "execution_count": null,
   "metadata": {},
   "outputs": [],
   "source": [
    "import pwlf\n",
    "def fit(x,y,N):\n",
    "    model = pwlf.PiecewiseLinFit(x, y)\n",
    "    model.fit(N)\n",
    "    xb = model.fit_breaks\n",
    "    yb = model.predict(xb)\n",
    "    return xb, yb"
   ]
  },
  {
   "cell_type": "code",
   "execution_count": null,
   "metadata": {},
   "outputs": [],
   "source": [
    "FINGER = 'LFJ5'\n",
    "Df = D[D['joint'] == FINGER]\n",
    "Df = Df.sort_values(by='reading')\n",
    "\n",
    "# filter broken datapoints\n",
    "Df = Df[Df['reading'] != 0]\n",
    "# Df = Df[Df['position'] < 0.2]\n",
    "# drop points with reading between 1750 and 1875 with position > -0.275\n",
    "# Df = Df[~((Df['reading'] > 2600) & (Df['reading'] < 2700) & (Df['position'] > 0.35))]\n",
    "# Df = Df[~((Df['reading'] > 2670) & (Df['reading'] < 2700) & (Df['position'] > 0.3))]\n",
    "# Df = Df[~((Df['reading'] > 2600) & (Df['reading'] < 2700) & (Df['position'] < 0.2))]\n",
    "# Df = Df[~(Df['position'] < -0.28)]\n",
    "# Df = Df[~((Df['reading'] < 1500) & (Df['position'] < 0.1))]\n",
    "\n",
    "# Df = Df.drop(Df.index[[9, 11]])\n",
    "\n",
    "x = Df['reading']\n",
    "y = Df['position']\n",
    "\n",
    "Df.plot.scatter(x='reading', y='position', title=FINGER)\n",
    "plt.show()"
   ]
  },
  {
   "cell_type": "code",
   "execution_count": null,
   "metadata": {},
   "outputs": [],
   "source": [
    "fig, axs = plt.subplots(2, 3, figsize=(15, 10), dpi=100)\n",
    "fig.suptitle(f'{FINGER} readings vs positions')\n",
    "\n",
    "for i, ax in tqdm.tqdm(list(enumerate(axs.flat))):\n",
    "    N = i + 1\n",
    "    xb, yb = fit(x, y, N)\n",
    "    ax.plot(xb, yb, 'r-o')\n",
    "    ax.scatter(x, y)\n",
    "    ax.set_title(f'N={N}')\n",
    "    ax.set_xlabel('reading')\n",
    "    ax.set_ylabel('position')\n",
    "    ax.xaxis.set_major_locator(plticker.MultipleLocator(100))\n",
    "    ax.yaxis.set_major_locator(plticker.MaxNLocator(20))\n",
    "    ax.yaxis.set_major_formatter(plticker.FormatStrFormatter('%.2f'))\n",
    "\n",
    "plt.savefig(f'piecewise-linear-fits {pd.Timestamp.now()}.svg')"
   ]
  },
  {
   "cell_type": "code",
   "execution_count": null,
   "metadata": {},
   "outputs": [],
   "source": [
    "# hand-picked number of segments:\n",
    "N = 2\n",
    "\n",
    "xb,yb = fit(x,y,N)\n",
    "plt.figure(figsize=(15, 10), dpi=50)\n",
    "plt.scatter(x, y)\n",
    "plt.plot(xb, yb, label=f\"{N} segment linear fit\", color='black')\n",
    "plt.title(FINGER)\n",
    "plt.xlabel('reading')\n",
    "plt.ylabel('position')\n",
    "plt.legend()\n",
    "plt.savefig(f'{FINGER} {N} segments {pd.Timestamp.now()}.svg')\n",
    "\n",
    "# calibration file format for shadow hand tuning curves\n",
    "entries = f'[\"{FINGER}\", [' + \", \".join([f\"[{x:.2f}, {y*360/tau:.2f}]\" for x,y in zip(xb,yb)]) + \"]],\"\n",
    "print(f\"Copy this line to the corresponding calibration.yaml in sr_hand_config:\\n\" + entries)"
   ]
  },
  {
   "cell_type": "code",
   "execution_count": null,
   "metadata": {},
   "outputs": [],
   "source": []
  }
 ],
 "metadata": {
  "kernelspec": {
   "display_name": "Python 3",
   "language": "python",
   "name": "python3"
  },
  "language_info": {
   "codemirror_mode": {
    "name": "ipython",
    "version": 3
   },
   "file_extension": ".py",
   "mimetype": "text/x-python",
   "name": "python",
   "nbconvert_exporter": "python",
   "pygments_lexer": "ipython3",
   "version": "3.8.10"
  }
 },
 "nbformat": 4,
 "nbformat_minor": 2
}
